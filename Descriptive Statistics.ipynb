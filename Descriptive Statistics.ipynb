{
 "cells": [
  {
   "cell_type": "markdown",
   "id": "3721a698",
   "metadata": {},
   "source": [
    "# Task - 7\n",
    "\n",
    "## Descriptive Statistics and Python Implementation.\n",
    "   *** \n",
    "`Descriptive statistics` helps to summarize a given data set . \n",
    "Descriptive statistics are broken down into measures of `central tendency` and `measures of variability`.\n",
    "Measures of central tendency include the `mean`, `median`, and `mode`\n",
    "Measures of variability include `standard deviation`, `variance`, `minimum and maximum variables`, `kurtosis`, and `skewness`.\n",
    "   ***\n",
    "* Mean\n",
    "* Median\n",
    "* Mode\n",
    "* Variance\n",
    "* Standard Deviation\n",
    "* Correlation\n",
    "* Normal Distribution (use references)\n",
    "* Feature of Normal Distribution\n",
    "* Positively Skewed & Negatively Skewed Normal Distribution\n",
    "* Effect on Mean, Median and Mode due to Skewness\n",
    "* Explain QQ Plot and show the implementation of the same\n",
    "* Explain Box Cox and show the implementation of the same\n"
   ]
  },
  {
   "cell_type": "code",
   "execution_count": 1,
   "id": "5498f3e3",
   "metadata": {},
   "outputs": [],
   "source": [
    "import pandas as pd\n",
    "import numpy as np \n",
    "import matplotlib.pyplot as plt\n",
    "import seaborn as sns \n",
    "\n",
    "import warnings\n",
    "warnings.filterwarnings('ignore')\n",
    "\n",
    "%matplotlib inline\n",
    "\n",
    "data = pd.read_csv('data.csv')"
   ]
  },
  {
   "cell_type": "code",
   "execution_count": 2,
   "id": "8e7ebb3f",
   "metadata": {},
   "outputs": [
    {
     "name": "stdout",
     "output_type": "stream",
     "text": [
      "<class 'pandas.core.frame.DataFrame'>\n",
      "RangeIndex: 50 entries, 0 to 49\n",
      "Data columns (total 7 columns):\n",
      " #   Column                    Non-Null Count  Dtype \n",
      "---  ------                    --------------  ----- \n",
      " 0   Mthly_HH_Income           50 non-null     int64 \n",
      " 1   Mthly_HH_Expense          50 non-null     int64 \n",
      " 2   No_of_Fly_Members         50 non-null     int64 \n",
      " 3   Emi_or_Rent_Amt           50 non-null     int64 \n",
      " 4   Annual_HH_Income          50 non-null     int64 \n",
      " 5   Highest_Qualified_Member  50 non-null     object\n",
      " 6   No_of_Earning_Members     50 non-null     int64 \n",
      "dtypes: int64(6), object(1)\n",
      "memory usage: 2.9+ KB\n"
     ]
    }
   ],
   "source": [
    "data.info()"
   ]
  },
  {
   "cell_type": "code",
   "execution_count": 3,
   "id": "bb01f67e",
   "metadata": {},
   "outputs": [
    {
     "data": {
      "text/html": [
       "<div>\n",
       "<style scoped>\n",
       "    .dataframe tbody tr th:only-of-type {\n",
       "        vertical-align: middle;\n",
       "    }\n",
       "\n",
       "    .dataframe tbody tr th {\n",
       "        vertical-align: top;\n",
       "    }\n",
       "\n",
       "    .dataframe thead th {\n",
       "        text-align: right;\n",
       "    }\n",
       "</style>\n",
       "<table border=\"1\" class=\"dataframe\">\n",
       "  <thead>\n",
       "    <tr style=\"text-align: right;\">\n",
       "      <th></th>\n",
       "      <th>Mthly_HH_Income</th>\n",
       "      <th>Mthly_HH_Expense</th>\n",
       "      <th>No_of_Fly_Members</th>\n",
       "      <th>Emi_or_Rent_Amt</th>\n",
       "      <th>Annual_HH_Income</th>\n",
       "      <th>Highest_Qualified_Member</th>\n",
       "      <th>No_of_Earning_Members</th>\n",
       "    </tr>\n",
       "  </thead>\n",
       "  <tbody>\n",
       "    <tr>\n",
       "      <th>45</th>\n",
       "      <td>90000</td>\n",
       "      <td>48000</td>\n",
       "      <td>7</td>\n",
       "      <td>0</td>\n",
       "      <td>885600</td>\n",
       "      <td>Post-Graduate</td>\n",
       "      <td>3</td>\n",
       "    </tr>\n",
       "    <tr>\n",
       "      <th>46</th>\n",
       "      <td>98000</td>\n",
       "      <td>25000</td>\n",
       "      <td>5</td>\n",
       "      <td>0</td>\n",
       "      <td>1152480</td>\n",
       "      <td>Professional</td>\n",
       "      <td>2</td>\n",
       "    </tr>\n",
       "    <tr>\n",
       "      <th>47</th>\n",
       "      <td>100000</td>\n",
       "      <td>30000</td>\n",
       "      <td>6</td>\n",
       "      <td>0</td>\n",
       "      <td>1404000</td>\n",
       "      <td>Graduate</td>\n",
       "      <td>3</td>\n",
       "    </tr>\n",
       "    <tr>\n",
       "      <th>48</th>\n",
       "      <td>100000</td>\n",
       "      <td>50000</td>\n",
       "      <td>4</td>\n",
       "      <td>20000</td>\n",
       "      <td>1032000</td>\n",
       "      <td>Professional</td>\n",
       "      <td>2</td>\n",
       "    </tr>\n",
       "    <tr>\n",
       "      <th>49</th>\n",
       "      <td>100000</td>\n",
       "      <td>40000</td>\n",
       "      <td>6</td>\n",
       "      <td>10000</td>\n",
       "      <td>1320000</td>\n",
       "      <td>Post-Graduate</td>\n",
       "      <td>1</td>\n",
       "    </tr>\n",
       "  </tbody>\n",
       "</table>\n",
       "</div>"
      ],
      "text/plain": [
       "    Mthly_HH_Income  Mthly_HH_Expense  No_of_Fly_Members  Emi_or_Rent_Amt  \\\n",
       "45            90000             48000                  7                0   \n",
       "46            98000             25000                  5                0   \n",
       "47           100000             30000                  6                0   \n",
       "48           100000             50000                  4            20000   \n",
       "49           100000             40000                  6            10000   \n",
       "\n",
       "    Annual_HH_Income Highest_Qualified_Member  No_of_Earning_Members  \n",
       "45            885600            Post-Graduate                      3  \n",
       "46           1152480             Professional                      2  \n",
       "47           1404000                 Graduate                      3  \n",
       "48           1032000             Professional                      2  \n",
       "49           1320000            Post-Graduate                      1  "
      ]
     },
     "execution_count": 3,
     "metadata": {},
     "output_type": "execute_result"
    }
   ],
   "source": [
    "data.tail()"
   ]
  },
  {
   "cell_type": "markdown",
   "id": "ca2a1c38",
   "metadata": {},
   "source": [
    "## Mean \n",
    "***\n",
    "The mean is the `mathematical average` of a set of two or more number.\n",
    "\n",
    "formula = ` (x1 +x2 +x3 +....+xn / n) `\n",
    "***\n",
    "\n",
    "### Implementation\n",
    "   Lets see the mean(average) income of `Annual_HH_Income`\n",
    "   "
   ]
  },
  {
   "cell_type": "code",
   "execution_count": 4,
   "id": "b67b4d30",
   "metadata": {},
   "outputs": [
    {
     "data": {
      "text/plain": [
       "490019.04"
      ]
     },
     "execution_count": 4,
     "metadata": {},
     "output_type": "execute_result"
    }
   ],
   "source": [
    "# With function \n",
    "data['Annual_HH_Income'].mean()"
   ]
  },
  {
   "cell_type": "code",
   "execution_count": 5,
   "id": "9db2d2eb",
   "metadata": {},
   "outputs": [
    {
     "name": "stdout",
     "output_type": "stream",
     "text": [
      "490019.04\n"
     ]
    }
   ],
   "source": [
    "# Without function\n",
    "x = data['Annual_HH_Income']\n",
    "c = 0\n",
    "for i in x:\n",
    "    c += i\n",
    "print(c/len(x))"
   ]
  },
  {
   "cell_type": "markdown",
   "id": "e23bd342",
   "metadata": {},
   "source": [
    "## Median\n",
    "***\n",
    "The `median` is the middle number in a `sorted` list of numbers and can be `more descriptive` of that data set than the mean(average).\n",
    "If there is an `odd amount` of numbers, the median value is the number that is in the `middle`.\n",
    "If there is an `even amount` of numbers , the median value is the `average` of the `middle pair`\n",
    "***\n",
    "\n",
    "### Implementation\n",
    "   Lets see the median(middle value) income of `Annual_HH_Income`"
   ]
  },
  {
   "cell_type": "code",
   "execution_count": 6,
   "id": "2d39eed0",
   "metadata": {},
   "outputs": [
    {
     "data": {
      "text/plain": [
       "447420.0"
      ]
     },
     "execution_count": 6,
     "metadata": {},
     "output_type": "execute_result"
    }
   ],
   "source": [
    "data['Annual_HH_Income'].median()"
   ]
  },
  {
   "cell_type": "code",
   "execution_count": 7,
   "id": "b2c26b54",
   "metadata": {},
   "outputs": [
    {
     "name": "stdout",
     "output_type": "stream",
     "text": [
      "447420.0\n"
     ]
    }
   ],
   "source": [
    "# Without function\n",
    "def get_median(ls):\n",
    "    ls_sorted = ls.sort()\n",
    "    if len(ls) % 2 != 0:\n",
    "        # total number of values are odd\n",
    "        m = int((len(ls)+1)/2 - 1)\n",
    "        return ls[m]\n",
    "    else:\n",
    "        m1 = int(len(ls)/2 - 1)\n",
    "        m2 = int(len(ls)/2)\n",
    "        return (ls[m1]+ls[m2])/2\n",
    "\n",
    "x = data['Annual_HH_Income']\n",
    "y = x.tolist()\n",
    "\n",
    "print(get_median(y))"
   ]
  },
  {
   "cell_type": "markdown",
   "id": "7c3eac05",
   "metadata": {},
   "source": [
    "## Mode\n",
    "***\n",
    "The `mode` is the `most commonly observed` value in a set of data. In a Dataset there can be `one` mode , `more than one` mode or `no` mode at all.\n",
    "***\n",
    "\n",
    "### Implementation\n",
    "   Lets see the mode(most common) rent or EMI of `Emi_or_Rent_Amt`"
   ]
  },
  {
   "cell_type": "code",
   "execution_count": 8,
   "id": "a347b553",
   "metadata": {},
   "outputs": [
    {
     "data": {
      "text/plain": [
       "0    0\n",
       "dtype: int64"
      ]
     },
     "execution_count": 8,
     "metadata": {},
     "output_type": "execute_result"
    }
   ],
   "source": [
    "# With function \n",
    "data['Emi_or_Rent_Amt'].mode()"
   ]
  },
  {
   "cell_type": "code",
   "execution_count": 9,
   "id": "8d99d8f5",
   "metadata": {},
   "outputs": [
    {
     "name": "stdout",
     "output_type": "stream",
     "text": [
      "0\n"
     ]
    }
   ],
   "source": [
    "# Without Function \n",
    "def get_Mode(ls):\n",
    "    L = []\n",
    "    for i in range(len(ls)):\n",
    "        L.append(ls.count(ls[i]))\n",
    "    dict1 = dict(zip(ls,L)) \n",
    "    return max(dict1, key= lambda x: dict1[x])\n",
    "\n",
    "x = data['Emi_or_Rent_Amt'].tolist()\n",
    "print(get_Mode(x))"
   ]
  },
  {
   "cell_type": "markdown",
   "id": "07b6868c",
   "metadata": {},
   "source": [
    "## Variance\n",
    "***\n",
    "The `average` of the `squared differences` from the Mean. This is used to check how `far` the numbers are from the `mean` value.\n",
    "\n",
    "***\n",
    "\n",
    "Formula ($\\sigma ^2$)  = $$\\frac{\\sum|x - \\mu|^2}{N}$$\n",
    "\n",
    "\n",
    "### Implementation\n",
    "   Lets see the varience rent or EMI of `Emi_or_Rent_Amt`"
   ]
  },
  {
   "cell_type": "code",
   "execution_count": 10,
   "id": "982fb074",
   "metadata": {},
   "outputs": [
    {
     "data": {
      "text/plain": [
       "38955510.20408163"
      ]
     },
     "execution_count": 10,
     "metadata": {},
     "output_type": "execute_result"
    }
   ],
   "source": [
    "# with function\n",
    "data['Emi_or_Rent_Amt'].var()"
   ]
  },
  {
   "cell_type": "code",
   "execution_count": 11,
   "id": "f53b532f",
   "metadata": {},
   "outputs": [
    {
     "name": "stdout",
     "output_type": "stream",
     "text": [
      "38176400.0\n"
     ]
    }
   ],
   "source": [
    "# without Function \n",
    "x = data['Emi_or_Rent_Amt']\n",
    "mean_emi = x.sum()/x.count()\n",
    "variance = 0\n",
    "for i in range(x.count()):\n",
    "    variance += (x[i] - mean_emi)**2\n",
    "print(variance/x.count())"
   ]
  },
  {
   "cell_type": "markdown",
   "id": "d6564455",
   "metadata": {},
   "source": [
    "## Standard Deviation\n",
    "***\n",
    "Standard deviation is the `square root` of `Variance`.The Standard Deviation is a measure of how spread out numbers are.\n",
    "***\n",
    "\n",
    "***\n",
    "Formula ($\\sigma$)  = $$\\sqrt{\\frac{\\sum|x - \\mu|^2}{N}}$$\n",
    "***\n",
    "\n",
    "Where\n",
    "\n",
    "$\\sigma$ - standard deviation\n",
    "\n",
    "$\\mu$ - mean\n",
    "\n",
    "N - number of values\n",
    "\n",
    "### Implementation\n",
    "   Lets see the mode(most common) rent or EMI of `Emi_or_Rent_Amt`"
   ]
  },
  {
   "cell_type": "code",
   "execution_count": 12,
   "id": "3ff57089",
   "metadata": {},
   "outputs": [
    {
     "data": {
      "text/plain": [
       "6241.434947516607"
      ]
     },
     "execution_count": 12,
     "metadata": {},
     "output_type": "execute_result"
    }
   ],
   "source": [
    "# with Function \n",
    "data['Emi_or_Rent_Amt'].std()"
   ]
  },
  {
   "cell_type": "code",
   "execution_count": 13,
   "id": "f22b028d",
   "metadata": {},
   "outputs": [
    {
     "name": "stdout",
     "output_type": "stream",
     "text": [
      "6178.705366013175\n"
     ]
    }
   ],
   "source": [
    "# without Function \n",
    "x = data['Emi_or_Rent_Amt']\n",
    "mean_emi = x.sum()/x.count()\n",
    "variance = 0\n",
    "for i in range(x.count()):\n",
    "    variance += (x[i] - mean_emi)**2\n",
    "print(np.sqrt(variance/x.count()))"
   ]
  },
  {
   "cell_type": "markdown",
   "id": "7be48357",
   "metadata": {},
   "source": [
    "## Correlation\n",
    "\n",
    "***\n",
    "`Correlation coefficients` are used to measure how strong a `relationship` is between two variables.The `coefficient` can take any values from `-1 to 1`.\n",
    "\n",
    "*   -1: `Perfect negative` correlation. The variables tend to move in `opposite direction`s (i.e., when one variable increases, the other variable decreases).\n",
    "*    0: `No correlation`. The variables do not have a relationship with each other.\n",
    "*    1: `Perfect positive correlation`. The variables tend to move in the `same direction` (i.e., when one variable increases, the other variable also increases).\n",
    "\n",
    "***\n",
    "\n",
    "Formula (Pearson Correlation Coefficient)  = \n",
    "$$\\frac{\\sum (x - \\mu_x) (y - \\mu_y)}{\\sqrt{\\sum (x - \\mu_x)^2 \\sum (y - \\mu_y)^2}}$$\n",
    "\n",
    "where,\n",
    "    x = value of x ;\n",
    "    $\\mu_x$ = mean of x ;\n",
    "    y = value of y ;\n",
    "    $\\mu_y$ = mean of y \n",
    "\n",
    "***\n",
    "\n",
    "### Implementation\n",
    "   Lets see the correlation between rent or EMI of `Emi_or_Rent_Amt` and income of `Annual_HH_Income`."
   ]
  },
  {
   "cell_type": "code",
   "execution_count": 14,
   "id": "93411508",
   "metadata": {},
   "outputs": [
    {
     "name": "stdout",
     "output_type": "stream",
     "text": [
      "The Pearson Correlation between EMI and Income is 0.0027 \n"
     ]
    }
   ],
   "source": [
    "# with Function\n",
    "from scipy.stats import pearsonr\n",
    "x = data['Emi_or_Rent_Amt'].tolist()\n",
    "y = data['Annual_HH_Income'].tolist()\n",
    "corr , _ = pearsonr(x,y)\n",
    "print(f'The Pearson Correlation between EMI and Income is {\"%.4f\" % corr} ')"
   ]
  },
  {
   "cell_type": "code",
   "execution_count": 15,
   "id": "fc7e1530",
   "metadata": {},
   "outputs": [
    {
     "name": "stdout",
     "output_type": "stream",
     "text": [
      "The Pearson Correlation between EMI and Income is 0.0027 \n"
     ]
    }
   ],
   "source": [
    "# without Function\n",
    "x = data['Emi_or_Rent_Amt']\n",
    "x_mean = x.sum()/x.count()\n",
    "y = data['Annual_HH_Income']\n",
    "y_mean = y.sum()/y.count()\n",
    "\n",
    "sum_tot = 0\n",
    "sum_x_sq = 0\n",
    "sum_y_sq = 0\n",
    "\n",
    "for i in range(x.count()):\n",
    "    m = (x[i] - x_mean)*(y[i] - y_mean)\n",
    "    sum_tot += m\n",
    "    \n",
    "for i in range(x.count()):\n",
    "    m = (x[i] - x_mean)**2\n",
    "    sum_x_sq += m\n",
    "    \n",
    "for i in range(y.count()):\n",
    "    m = (y[i] - y_mean)**2\n",
    "    sum_y_sq += m\n",
    "    \n",
    "corr_wf = (sum_tot) / (np.sqrt((sum_x_sq) * (sum_y_sq)))\n",
    "print(f'The Pearson Correlation between EMI and Income is {\"%.4f\" % corr_wf} ')"
   ]
  },
  {
   "cell_type": "markdown",
   "id": "1ddd56e1",
   "metadata": {},
   "source": [
    "## Normal Distribution \n",
    "\n",
    "***\n",
    "`Normal distribution` is a probability `distribution plot`. A normal distribution is a `bell curve` or `Gaussian Distribution` which typically has two parameters: `mean` and `standard deviation (SD)`.It represents a symmetric distribution where most of the observations cluster around the `central peak` called as `mean of the distribution`.\n",
    "\n",
    "***\n",
    "\n",
    "\n",
    "### Figure of Normal Distribution\n",
    "<img src = 'https://s4be.cochrane.org/app/uploads/2018/09/Image-1-Standard-deviation-Standard-error--768x555.jpg' width = \"400\"/>\n"
   ]
  },
  {
   "cell_type": "code",
   "execution_count": 16,
   "id": "730aec63",
   "metadata": {},
   "outputs": [
    {
     "data": {
      "image/png": "[encoded data removed]",
      "text/plain": [
       "<Figure size 432x288 with 1 Axes>"
      ]
     },
     "metadata": {
      "needs_background": "light"
     },
     "output_type": "display_data"
    }
   ],
   "source": [
    "sample = np.random.normal(size=1000)\n",
    "sns.distplot(sample , hist = False);"
   ]
  },
  {
   "cell_type": "markdown",
   "id": "68c21c2b",
   "metadata": {},
   "source": [
    "## Feature of Normal Distribution \n",
    "\n",
    "***\n",
    "* The mean, median and mode are exactly the same.\n",
    "* The distribution is symmetric about the mean—half the values fall below the mean and half above the mean.\n",
    "* he distribution can be described by two values: the mean and the standard deviation.\n",
    "***\n",
    "\n",
    "\n",
    "### Normal Distribution with Different Mean\n",
    "<img src = 'https://cdn.scribbr.com/wp-content/uploads/2020/10/normal-distributions-with-different-means-768x475.png' width = \"500\"/>\n",
    "\n",
    "***\n",
    "### Normal Distribution with Different SD\n",
    "<img src = 'https://cdn.scribbr.com/wp-content/uploads/2020/10/normal-distributions-with-different-sds-768x475.png' width = \"500\"/>\n",
    "\n",
    "\n",
    "\n"
   ]
  },
  {
   "cell_type": "markdown",
   "id": "91d3c3db",
   "metadata": {},
   "source": [
    "## Positively Skewed & Negatively Skewed Normal Distribution \n",
    "\n",
    "***\n",
    "\n",
    "`Skewness` refers to a `distortion or asymmetry` that `deviates` from the symmetrical bell curve, or `normal distribution`, in a set of data.If one tail is `longer than another`, the distribution is `skewed`. These distributions are sometimes called `asymmetric` or `asymmetrical` distributions as they `don’t show any kind of symmetry`.\n",
    "\n",
    "***\n",
    "1. If skewness is less than -1 or greater than 1, the distribution is highly skewed.\n",
    "2. If skewness is between -1 and -0.5 or between 0.5 and 1, the distribution is moderately skewed.\n",
    "3. If skewness is between -0.5 and 0.5, the distribution is approximately symmetric\n",
    "\n",
    "### Positively Skewed Distribution\n",
    "\n",
    "`Positive Skewness` means when the tail on the `right side` of the distribution is `longer or fatter` than the left side.\n",
    "\n",
    "<img src = 'https://static.seekingalpha.com/uploads/2014/3/19/10307291-13952474853660543-Buy-and-Hold-Falcon_origin.jpg' width = \"500\"/>\n",
    "\n",
    "***\n",
    "\n",
    "### Negatively Skewed Distribution \n",
    "\n",
    "`Negative Skewness` is when the tail on the `left side` of the distribution is `longer or fatter` than the tail on the right side.\n",
    "\n",
    "<img src = 'https://encrypted-tbn0.gstatic.com/images?q=tbn:ANd9GcTcMrOwRWsy5uSAi7IC3SaH1JTPQWV45R1i9A&usqp=CAU' width = \"500\"/>\n",
    "\n",
    "### Implementation\n",
    "Checking the skewness on `all the columns in the data set`."
   ]
  },
  {
   "cell_type": "code",
   "execution_count": 17,
   "id": "3eccf4e9",
   "metadata": {},
   "outputs": [
    {
     "data": {
      "text/plain": [
       "Mthly_HH_Income          0.924615\n",
       "Mthly_HH_Expense         1.199461\n",
       "No_of_Fly_Members        0.113674\n",
       "Emi_or_Rent_Amt          3.403680\n",
       "Annual_HH_Income         1.192949\n",
       "No_of_Earning_Members    1.593301\n",
       "dtype: float64"
      ]
     },
     "execution_count": 17,
     "metadata": {},
     "output_type": "execute_result"
    }
   ],
   "source": [
    "data.skew()"
   ]
  },
  {
   "cell_type": "markdown",
   "id": "0a1ab0d5",
   "metadata": {},
   "source": [
    "## Effect on Mean, Median and Mode due to Skewness \n",
    "\n",
    "***\n",
    "\n",
    "### Positively Skewed \n",
    "\n",
    "The `mean` of positively skewed data `will be greater than the median`. A right-skewed distribution will have the `mean` to the `right of the median`.\n",
    "\n",
    "<img src = 'https://www.statisticshowto.com/wp-content/uploads/2014/02/pearson-mode-skewness.jpg' width = \"500\"/>\n",
    "\n",
    "### Negatively Skewed \n",
    "\n",
    "The `mean` of negatively skewed data `will be lesser than the median`. A left-skewed distribution will have the `mean` to the `left of the median`.\n",
    "\n",
    "***"
   ]
  },
  {
   "cell_type": "markdown",
   "id": "378f1edc",
   "metadata": {},
   "source": [
    "### Explain QQ Plot and show the implementation of the same\n",
    " \n",
    "***\n",
    "`Q-Q plots` also known as `Quantile-Quantile plot` is plots of two quantiles against each other.The `main objective` of this plot is to check wheather `two sets of data come from the same distribution`. We can simply tell the type of distribution by looking at the graph of Q-Q plot\n",
    "\n",
    "***\n",
    "\n",
    "#### Implementation\n",
    "   Lets see the QQ plot on income of `A`"
   ]
  },
  {
   "cell_type": "code",
   "execution_count": 18,
   "id": "9f9088bb",
   "metadata": {},
   "outputs": [
    {
     "data": {
      "image/png": "[encoded data removed]",
      "text/plain": [
       "<Figure size 432x288 with 1 Axes>"
      ]
     },
     "metadata": {
      "needs_background": "light"
     },
     "output_type": "display_data"
    }
   ],
   "source": [
    "from scipy import stats\n",
    "\n",
    "stats.probplot(data['Mthly_HH_Income'], dist=\"norm\", plot=plt)\n",
    "\n",
    "plt.grid()"
   ]
  },
  {
   "cell_type": "markdown",
   "id": "46e5633c",
   "metadata": {},
   "source": [
    "### Explain Box Cox and show the implementation of the same\n",
    "\n",
    "***\n",
    "A `box-cox plot` is basically used to `convert` the `non-normally` distributed dataset into the `normally` distributed dataset.\n",
    "***"
   ]
  },
  {
   "cell_type": "code",
   "execution_count": 19,
   "id": "74da28b1",
   "metadata": {},
   "outputs": [
    {
     "data": {
      "image/png": "[encoded data removed]",
      "text/plain": [
       "<Figure size 432x288 with 1 Axes>"
      ]
     },
     "metadata": {
      "needs_background": "light"
     },
     "output_type": "display_data"
    }
   ],
   "source": [
    "from scipy.stats import boxcox \n",
    "\n",
    "data = np.random.exponential(size=1000)\n",
    "\n",
    "sns.distplot(data, hist=False, kde=True);"
   ]
  },
  {
   "cell_type": "code",
   "execution_count": 20,
   "id": "f923955f",
   "metadata": {},
   "outputs": [
    {
     "data": {
      "image/png": "[encoded data removed]",
      "text/plain": [
       "<Figure size 432x288 with 1 Axes>"
      ]
     },
     "metadata": {
      "needs_background": "light"
     },
     "output_type": "display_data"
    }
   ],
   "source": [
    "# converting the data to normally distributed\n",
    "transformed_data, best_lambda = boxcox(data) \n",
    "\n",
    "sns.distplot(transformed_data, hist=False, kde=True); "
   ]
  }
 ],
 "metadata": {
  "kernelspec": {
   "display_name": "Python 3 (ipykernel)",
   "language": "python",
   "name": "python3"
  },
  "language_info": {
   "codemirror_mode": {
    "name": "ipython",
    "version": 3
   },
   "file_extension": ".py",
   "mimetype": "text/x-python",
   "name": "python",
   "nbconvert_exporter": "python",
   "pygments_lexer": "ipython3",
   "version": "3.8.11"
  }
 },
 "nbformat": 4,
 "nbformat_minor": 5
}
